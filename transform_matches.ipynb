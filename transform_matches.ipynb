{
 "cells": [
  {
   "cell_type": "code",
   "execution_count": 1,
   "id": "b03fcf86",
   "metadata": {},
   "outputs": [],
   "source": [
    "import pandas as pd"
   ]
  },
  {
   "cell_type": "code",
   "execution_count": 14,
   "id": "b3b954b1",
   "metadata": {},
   "outputs": [
    {
     "data": {
      "text/html": [
       "<div>\n",
       "<style scoped>\n",
       "    .dataframe tbody tr th:only-of-type {\n",
       "        vertical-align: middle;\n",
       "    }\n",
       "\n",
       "    .dataframe tbody tr th {\n",
       "        vertical-align: top;\n",
       "    }\n",
       "\n",
       "    .dataframe thead th {\n",
       "        text-align: right;\n",
       "    }\n",
       "</style>\n",
       "<table border=\"1\" class=\"dataframe\">\n",
       "  <thead>\n",
       "    <tr style=\"text-align: right;\">\n",
       "      <th></th>\n",
       "      <th>player_1</th>\n",
       "      <th>score_1</th>\n",
       "      <th>score_2</th>\n",
       "      <th>player_2</th>\n",
       "      <th>replay</th>\n",
       "    </tr>\n",
       "  </thead>\n",
       "  <tbody>\n",
       "    <tr>\n",
       "      <th>0</th>\n",
       "      <td>Wirox</td>\n",
       "      <td>5</td>\n",
       "      <td>0</td>\n",
       "      <td>xdddlololo</td>\n",
       "      <td>NaN</td>\n",
       "    </tr>\n",
       "    <tr>\n",
       "      <th>1</th>\n",
       "      <td>Daewoo</td>\n",
       "      <td>5</td>\n",
       "      <td>0</td>\n",
       "      <td>xdddlololo</td>\n",
       "      <td>NaN</td>\n",
       "    </tr>\n",
       "    <tr>\n",
       "      <th>2</th>\n",
       "      <td>sanmi</td>\n",
       "      <td>5</td>\n",
       "      <td>4</td>\n",
       "      <td>cristof von roe</td>\n",
       "      <td>NaN</td>\n",
       "    </tr>\n",
       "    <tr>\n",
       "      <th>3</th>\n",
       "      <td>xdddlololo</td>\n",
       "      <td>5</td>\n",
       "      <td>1</td>\n",
       "      <td>sanmi</td>\n",
       "      <td>NaN</td>\n",
       "    </tr>\n",
       "    <tr>\n",
       "      <th>4</th>\n",
       "      <td>Daewoo</td>\n",
       "      <td>5</td>\n",
       "      <td>0</td>\n",
       "      <td>sanmi</td>\n",
       "      <td>NaN</td>\n",
       "    </tr>\n",
       "    <tr>\n",
       "      <th>...</th>\n",
       "      <td>...</td>\n",
       "      <td>...</td>\n",
       "      <td>...</td>\n",
       "      <td>...</td>\n",
       "      <td>...</td>\n",
       "    </tr>\n",
       "    <tr>\n",
       "      <th>783</th>\n",
       "      <td>Powup1</td>\n",
       "      <td>5</td>\n",
       "      <td>0</td>\n",
       "      <td>FluoxEtina</td>\n",
       "      <td>NaN</td>\n",
       "    </tr>\n",
       "    <tr>\n",
       "      <th>784</th>\n",
       "      <td>Gentlemano</td>\n",
       "      <td>5</td>\n",
       "      <td>0</td>\n",
       "      <td>Durazno Sangrando</td>\n",
       "      <td>NaN</td>\n",
       "    </tr>\n",
       "    <tr>\n",
       "      <th>785</th>\n",
       "      <td>[SEBA]</td>\n",
       "      <td>5</td>\n",
       "      <td>2</td>\n",
       "      <td>Kmion33</td>\n",
       "      <td>NaN</td>\n",
       "    </tr>\n",
       "    <tr>\n",
       "      <th>786</th>\n",
       "      <td>[SEBA]</td>\n",
       "      <td>5</td>\n",
       "      <td>0</td>\n",
       "      <td>FluoxEtina</td>\n",
       "      <td>NaN</td>\n",
       "    </tr>\n",
       "    <tr>\n",
       "      <th>787</th>\n",
       "      <td>Ttvdonjavierlive</td>\n",
       "      <td>5</td>\n",
       "      <td>3</td>\n",
       "      <td>Durazno Sangrando</td>\n",
       "      <td>NaN</td>\n",
       "    </tr>\n",
       "  </tbody>\n",
       "</table>\n",
       "<p>788 rows × 5 columns</p>\n",
       "</div>"
      ],
      "text/plain": [
       "             player_1  score_1  score_2           player_2 replay\n",
       "0               Wirox        5        0         xdddlololo    NaN\n",
       "1              Daewoo        5        0         xdddlololo    NaN\n",
       "2               sanmi        5        4    cristof von roe    NaN\n",
       "3          xdddlololo        5        1              sanmi    NaN\n",
       "4              Daewoo        5        0              sanmi    NaN\n",
       "..                ...      ...      ...                ...    ...\n",
       "783            Powup1        5        0         FluoxEtina    NaN\n",
       "784        Gentlemano        5        0  Durazno Sangrando    NaN\n",
       "785            [SEBA]        5        2            Kmion33    NaN\n",
       "786            [SEBA]        5        0         FluoxEtina    NaN\n",
       "787  Ttvdonjavierlive        5        3  Durazno Sangrando    NaN\n",
       "\n",
       "[788 rows x 5 columns]"
      ]
     },
     "execution_count": 14,
     "metadata": {},
     "output_type": "execute_result"
    }
   ],
   "source": [
    "df = pd.read_csv(\"superliga2023.tsv\", sep=\"\\t\")\n",
    "df"
   ]
  },
  {
   "cell_type": "code",
   "execution_count": 15,
   "id": "f51d12f9",
   "metadata": {},
   "outputs": [
    {
     "data": {
      "text/plain": [
       "player_1    object\n",
       "score_1      int64\n",
       "score_2      int64\n",
       "player_2    object\n",
       "replay      object\n",
       "dtype: object"
      ]
     },
     "execution_count": 15,
     "metadata": {},
     "output_type": "execute_result"
    }
   ],
   "source": [
    "df.dtypes"
   ]
  },
  {
   "cell_type": "code",
   "execution_count": 13,
   "id": "adf08ae2",
   "metadata": {},
   "outputs": [
    {
     "data": {
      "text/plain": [
       "array(['wirox', 'daewoo', 'sanmi', 'xdddlololo', 'ttvdonjavierlive',\n",
       "       'i_tried', 'pipenhocongranadina', 'lionheartxiii', '_onslaught',\n",
       "       'thiagongg', 'comicnauta', 'donferwea', 'franciscois', 'alvarinho',\n",
       "       'yagger00', 'powup1', 'ariel_tapia1984', 'eduranryu', 'redeker87',\n",
       "       'xno', 'elcarnaza1', 'house_iqq', 'samusaranx', 'octaseco',\n",
       "       'lowap', 'perrito38', 'gentlemano', 'rwk', 'durazno sangrando',\n",
       "       '[seba]', 'vinsfield', 'fitoxnorris', 'mewtaro', 'sir.weon',\n",
       "       'fluoxetina', 'cristof von roe', '(solido)', 'redda', 'yasuoh0',\n",
       "       'gouken_iqq', 'fulgore', 'diplosaurio', 'unmaker', 'emogay',\n",
       "       'metalero', 'abusamadres', 'echalemasbebida', 'alkeindem',\n",
       "       'mrolympia', 'unknowz', 'tomaselninjapro', 'ppx_iqq', 'kmion33',\n",
       "       'lordmastersex', 'krnz', 'rompehuesos', 'younghou', 'tio muffin',\n",
       "       'morancio', 'tkross-itachi', 'crystowizard', 'vicente4c',\n",
       "       'luxfercl', 'pplm97'], dtype=object)"
      ]
     },
     "execution_count": 13,
     "metadata": {},
     "output_type": "execute_result"
    }
   ],
   "source": [
    "pd.concat((df.player_1.apply(lambda x: x.lower()), df.player_2.apply(lambda x: x.lower()))).unique()"
   ]
  },
  {
   "cell_type": "code",
   "execution_count": 16,
   "id": "f783658a",
   "metadata": {},
   "outputs": [],
   "source": [
    "translate = {\n",
    "    \"mewtaro\": \"mewtario\",\n",
    "    \"fluoxetina\": \"fluox_etina\",\n",
    "    \"(solido)\": \"solido\",\n",
    "    \"mrolympia\": \"mr olympia\",\n",
    "    \"tio muffin\": \"eltiomuffin\"\n",
    "}"
   ]
  },
  {
   "cell_type": "code",
   "execution_count": 17,
   "id": "2190901e",
   "metadata": {},
   "outputs": [],
   "source": [
    "for col in [\"player_1\", \"player_2\"]:\n",
    "    df[col] = df[col].apply(lambda x: x.lower())\n",
    "    df[col] = df[col].apply(lambda x: translate[x] if x in translate else x)"
   ]
  },
  {
   "cell_type": "code",
   "execution_count": 18,
   "id": "b0253ed7",
   "metadata": {},
   "outputs": [
    {
     "data": {
      "text/plain": [
       "array(['wirox', 'daewoo', 'sanmi', 'xdddlololo', 'ttvdonjavierlive',\n",
       "       'i_tried', 'pipenhocongranadina', 'lionheartxiii', '_onslaught',\n",
       "       'thiagongg', 'comicnauta', 'donferwea', 'franciscois', 'alvarinho',\n",
       "       'yagger00', 'powup1', 'ariel_tapia1984', 'eduranryu', 'redeker87',\n",
       "       'xno', 'elcarnaza1', 'house_iqq', 'samusaranx', 'octaseco',\n",
       "       'lowap', 'perrito38', 'gentlemano', 'rwk', 'durazno sangrando',\n",
       "       '[seba]', 'vinsfield', 'fitoxnorris', 'mewtario', 'sir.weon',\n",
       "       'fluox_etina', 'cristof von roe', 'solido', 'redda', 'yasuoh0',\n",
       "       'gouken_iqq', 'fulgore', 'diplosaurio', 'unmaker', 'emogay',\n",
       "       'metalero', 'abusamadres', 'echalemasbebida', 'alkeindem',\n",
       "       'mr olympia', 'unknowz', 'tomaselninjapro', 'ppx_iqq', 'kmion33',\n",
       "       'lordmastersex', 'krnz', 'rompehuesos', 'younghou', 'eltiomuffin',\n",
       "       'morancio', 'tkross-itachi', 'crystowizard', 'vicente4c',\n",
       "       'luxfercl', 'pplm97'], dtype=object)"
      ]
     },
     "execution_count": 18,
     "metadata": {},
     "output_type": "execute_result"
    }
   ],
   "source": [
    "pd.concat((df.player_1, df.player_2)).unique()"
   ]
  },
  {
   "cell_type": "code",
   "execution_count": 22,
   "id": "9d48d7dd",
   "metadata": {},
   "outputs": [],
   "source": [
    "df.to_csv(\"superliga2023.tsv\", sep=\"\\t\", index = False)"
   ]
  }
 ],
 "metadata": {
  "kernelspec": {
   "display_name": "Python 3 (ipykernel)",
   "language": "python",
   "name": "python3"
  },
  "language_info": {
   "codemirror_mode": {
    "name": "ipython",
    "version": 3
   },
   "file_extension": ".py",
   "mimetype": "text/x-python",
   "name": "python",
   "nbconvert_exporter": "python",
   "pygments_lexer": "ipython3",
   "version": "3.9.13"
  }
 },
 "nbformat": 4,
 "nbformat_minor": 5
}
